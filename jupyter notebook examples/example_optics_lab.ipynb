{
 "cells": [
  {
   "cell_type": "code",
   "execution_count": 1,
   "id": "8ce2f292-825f-4fb6-87dc-93a3606d11ad",
   "metadata": {},
   "outputs": [],
   "source": [
    "# make sure you comment \n",
    "# from .device_mechanical_mode import *\n",
    "# and uncomment\n",
    "# #from .device_UO_optics_lab import *\n",
    "# in __init__.py of device submodule "
   ]
  },
  {
   "cell_type": "code",
   "execution_count": 1,
   "id": "d411c418-92f4-4edc-841b-d9f53eb9dcc0",
   "metadata": {},
   "outputs": [],
   "source": [
    "import sys, time, os\n",
    "import numpy as np\n",
    "sys.path.append(os.path.abspath('..'))\n",
    "\n",
    "from Confocal_GUIv2.device import USB6346, AFG31152, DSG836, Pulse, init_devices\n",
    "from Confocal_GUIv2.logic  import odmr, pl, load, live, GUI\n",
    "\n",
    "%load_ext autoreload\n",
    "%autoreload 2"
   ]
  },
  {
   "cell_type": "code",
   "execution_count": 2,
   "id": "df8be8ea-657c-4639-b70c-22d47af1a296",
   "metadata": {},
   "outputs": [
    {
     "name": "stdout",
     "output_type": "stream",
     "text": [
      "Loading C:\\Users\\eadri\\Dropbox\\WorkCode\\Github\\Confocal-GUIv2\\Confocal_GUIv2\\device\\configs\\virtual_test.json\n",
      "[init_devices] Loaded config from C:\\Users\\eadri\\Dropbox\\WorkCode\\Github\\Confocal-GUIv2\\Confocal_GUIv2\\device\\configs\\virtual_test.json.\n"
     ]
    }
   ],
   "source": [
    "init_devices(lookup_dict=globals(), addr='optics_lab*', is_GUI=True)"
   ]
  },
  {
   "cell_type": "code",
   "execution_count": null,
   "id": "9d7050b1-b7e3-4a3b-bdb3-3c1cb6cbdd50",
   "metadata": {},
   "outputs": [],
   "source": [
    "GUI()"
   ]
  }
 ],
 "metadata": {
  "kernelspec": {
   "display_name": "Python 3 (ipykernel)",
   "language": "python",
   "name": "python3"
  },
  "language_info": {
   "codemirror_mode": {
    "name": "ipython",
    "version": 3
   },
   "file_extension": ".py",
   "mimetype": "text/x-python",
   "name": "python",
   "nbconvert_exporter": "python",
   "pygments_lexer": "ipython3",
   "version": "3.13.1"
  },
  "widgets": {
   "application/vnd.jupyter.widget-state+json": {
    "state": {},
    "version_major": 2,
    "version_minor": 0
   }
  }
 },
 "nbformat": 4,
 "nbformat_minor": 5
}
